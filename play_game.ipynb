{
 "cells": [
  {
   "cell_type": "code",
   "execution_count": 10,
   "id": "1200ee10",
   "metadata": {},
   "outputs": [],
   "source": [
    "import guess_function\n",
    "import re"
   ]
  },
  {
   "cell_type": "code",
   "execution_count": 11,
   "id": "f096eeee",
   "metadata": {},
   "outputs": [
    {
     "ename": "NameError",
     "evalue": "name 'join_no_double_counting' is not defined",
     "output_type": "error",
     "traceback": [
      "\u001b[0;31m---------------------------------------------------------------------------\u001b[0m",
      "\u001b[0;31mNameError\u001b[0m                                 Traceback (most recent call last)",
      "Cell \u001b[0;32mIn[11], line 1\u001b[0m\n\u001b[0;32m----> 1\u001b[0m \u001b[43mguess_function\u001b[49m\u001b[38;5;241;43m.\u001b[39;49m\u001b[43mguess\u001b[49m\u001b[43m(\u001b[49m\u001b[43m[\u001b[49m\u001b[38;5;124;43m'\u001b[39;49m\u001b[38;5;124;43mapple\u001b[39;49m\u001b[38;5;124;43m'\u001b[39;49m\u001b[43m,\u001b[49m\u001b[43m \u001b[49m\u001b[38;5;124;43m'\u001b[39;49m\u001b[38;5;124;43moranges\u001b[39;49m\u001b[38;5;124;43m'\u001b[39;49m\u001b[43m]\u001b[49m\u001b[43m,\u001b[49m\u001b[43m[\u001b[49m\u001b[38;5;124;43m'\u001b[39;49m\u001b[38;5;124;43mapple\u001b[39;49m\u001b[38;5;124;43m'\u001b[39;49m\u001b[43m,\u001b[49m\u001b[43m \u001b[49m\u001b[38;5;124;43m'\u001b[39;49m\u001b[38;5;124;43moranges\u001b[39;49m\u001b[38;5;124;43m'\u001b[39;49m\u001b[43m]\u001b[49m\u001b[43m,\u001b[49m\u001b[43m \u001b[49m\u001b[43m[\u001b[49m\u001b[43m]\u001b[49m\u001b[43m,\u001b[49m\u001b[43m \u001b[49m\u001b[38;5;124;43m'\u001b[39;49m\u001b[38;5;124;43m_ _ _ _ _\u001b[39;49m\u001b[38;5;124;43m'\u001b[39;49m\u001b[43m)\u001b[49m\n",
      "File \u001b[0;32m~/Dropbox/MachineLearningProjBaby/Hangman/guess_function.py:62\u001b[0m, in \u001b[0;36mguess\u001b[0;34m(dict_of_words, current_dictionary, guessed_letters, word)\u001b[0m\n\u001b[1;32m     59\u001b[0m current_dictionary \u001b[38;5;241m=\u001b[39m new_dictionary\n\u001b[1;32m     61\u001b[0m \u001b[38;5;66;03m# count occurrence of all characters in possible word matches\u001b[39;00m\n\u001b[0;32m---> 62\u001b[0m full_dict_string \u001b[38;5;241m=\u001b[39m \u001b[43mjoin_no_double_counting\u001b[49m(new_dictionary)\n\u001b[1;32m     63\u001b[0m c \u001b[38;5;241m=\u001b[39m collections\u001b[38;5;241m.\u001b[39mCounter(full_dict_string)\n\u001b[1;32m     64\u001b[0m sorted_letter_count \u001b[38;5;241m=\u001b[39m c\u001b[38;5;241m.\u001b[39mmost_common()                   \n",
      "\u001b[0;31mNameError\u001b[0m: name 'join_no_double_counting' is not defined"
     ]
    }
   ],
   "source": [
    "guess_function.guess(['apple', 'oranges'],['apple', 'oranges'], [], '_ _ _ _ _')"
   ]
  },
  {
   "cell_type": "code",
   "execution_count": null,
   "id": "8572a2b1",
   "metadata": {},
   "outputs": [],
   "source": []
  }
 ],
 "metadata": {
  "kernelspec": {
   "display_name": "Python 3 (ipykernel)",
   "language": "python",
   "name": "python3"
  },
  "language_info": {
   "codemirror_mode": {
    "name": "ipython",
    "version": 3
   },
   "file_extension": ".py",
   "mimetype": "text/x-python",
   "name": "python",
   "nbconvert_exporter": "python",
   "pygments_lexer": "ipython3",
   "version": "3.10.11"
  }
 },
 "nbformat": 4,
 "nbformat_minor": 5
}
