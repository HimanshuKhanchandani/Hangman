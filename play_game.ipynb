{
 "cells": [
  {
   "cell_type": "code",
   "execution_count": 18,
   "id": "1200ee10",
   "metadata": {},
   "outputs": [],
   "source": [
    "import guess_function\n",
    "import play_game_function"
   ]
  },
  {
   "cell_type": "code",
   "execution_count": 16,
   "id": "f096eeee",
   "metadata": {},
   "outputs": [
    {
     "data": {
      "text/plain": [
       "'p'"
      ]
     },
     "execution_count": 16,
     "metadata": {},
     "output_type": "execute_result"
    }
   ],
   "source": [
    "guess_function.guess(['apple', 'oranges'],['apple', 'oranges'], ['a','e'], 'a _ _ _ e')"
   ]
  },
  {
   "cell_type": "code",
   "execution_count": 14,
   "id": "8572a2b1",
   "metadata": {},
   "outputs": [
    {
     "data": {
      "text/plain": [
       "'_ _ _ _ _'"
      ]
     },
     "execution_count": 14,
     "metadata": {},
     "output_type": "execute_result"
    }
   ],
   "source": [
    "word = 'apple'\n",
    "starting_word = \"\"\n",
    "for i in range(len(word) - 1):\n",
    "    starting_word += \"_ \"\n",
    "starting_word += \"_\"\n",
    "starting_word"
   ]
  },
  {
   "cell_type": "code",
   "execution_count": 20,
   "id": "66aab15f",
   "metadata": {},
   "outputs": [
    {
     "name": "stdout",
     "output_type": "stream",
     "text": [
      "Guessing  a current state is  a _ _ _ _\n",
      "Guessing  e current state is  a _ _ _ e\n",
      "Guessing  p current state is  a p p _ e\n",
      "Guessing  l current state is  a p p l e\n"
     ]
    },
    {
     "ename": "NameError",
     "evalue": "name 'operator' is not defined",
     "output_type": "error",
     "traceback": [
      "\u001b[0;31m---------------------------------------------------------------------------\u001b[0m",
      "\u001b[0;31mNameError\u001b[0m                                 Traceback (most recent call last)",
      "Cell \u001b[0;32mIn[20], line 1\u001b[0m\n\u001b[0;32m----> 1\u001b[0m \u001b[43mplay_game_function\u001b[49m\u001b[38;5;241;43m.\u001b[39;49m\u001b[43mplay_game\u001b[49m\u001b[43m(\u001b[49m\u001b[38;5;124;43m'\u001b[39;49m\u001b[38;5;124;43mapple\u001b[39;49m\u001b[38;5;124;43m'\u001b[39;49m\u001b[43m,\u001b[49m\u001b[43m \u001b[49m\u001b[43m[\u001b[49m\u001b[38;5;124;43m'\u001b[39;49m\u001b[38;5;124;43mapple\u001b[39;49m\u001b[38;5;124;43m'\u001b[39;49m\u001b[43m,\u001b[49m\u001b[43m \u001b[49m\u001b[38;5;124;43m'\u001b[39;49m\u001b[38;5;124;43moranges\u001b[39;49m\u001b[38;5;124;43m'\u001b[39;49m\u001b[43m]\u001b[49m\u001b[43m,\u001b[49m\u001b[43m \u001b[49m\u001b[43mverbose\u001b[49m\u001b[43m \u001b[49m\u001b[38;5;241;43m=\u001b[39;49m\u001b[43m \u001b[49m\u001b[38;5;28;43;01mTrue\u001b[39;49;00m\u001b[43m \u001b[49m\u001b[43m)\u001b[49m\n",
      "File \u001b[0;32m~/Dropbox/MachineLearningProjBaby/Hangman/play_game_function.py:11\u001b[0m, in \u001b[0;36mplay_game\u001b[0;34m(word, train_dictionary, verbose)\u001b[0m\n\u001b[1;32m      9\u001b[0m guessed_letters \u001b[38;5;241m=\u001b[39m []\n\u001b[1;32m     10\u001b[0m \u001b[38;5;28;01mwhile\u001b[39;00m (incorrect_guesses \u001b[38;5;241m<\u001b[39m \u001b[38;5;241m6\u001b[39m) \u001b[38;5;129;01mor\u001b[39;00m (current_word[::\u001b[38;5;241m2\u001b[39m] \u001b[38;5;241m!=\u001b[39m word):\n\u001b[0;32m---> 11\u001b[0m     current_guess \u001b[38;5;241m=\u001b[39m \u001b[43mguess_function\u001b[49m\u001b[38;5;241;43m.\u001b[39;49m\u001b[43mguess\u001b[49m\u001b[43m(\u001b[49m\u001b[43mtrain_dictionary\u001b[49m\u001b[43m,\u001b[49m\u001b[43m \u001b[49m\u001b[43mtrain_dictionary\u001b[49m\u001b[43m,\u001b[49m\u001b[43m \u001b[49m\u001b[43mguessed_letters\u001b[49m\u001b[43m,\u001b[49m\u001b[43m \u001b[49m\u001b[43mcurrent_word\u001b[49m\u001b[43m)\u001b[49m\n\u001b[1;32m     12\u001b[0m     guessed_letters \u001b[38;5;241m+\u001b[39m\u001b[38;5;241m=\u001b[39m [current_guess]\n\u001b[1;32m     13\u001b[0m     \u001b[38;5;28;01mif\u001b[39;00m current_guess \u001b[38;5;129;01min\u001b[39;00m word:\n",
      "File \u001b[0;32m~/Dropbox/MachineLearningProjBaby/Hangman/guess_function.py:306\u001b[0m, in \u001b[0;36mguess\u001b[0;34m(dict_of_words, current_dictionary, guessed_letters, word)\u001b[0m\n\u001b[1;32m    304\u001b[0m \u001b[38;5;28;01mif\u001b[39;00m guess_letter \u001b[38;5;241m==\u001b[39m \u001b[38;5;124m'\u001b[39m\u001b[38;5;124m!\u001b[39m\u001b[38;5;124m'\u001b[39m:\n\u001b[1;32m    305\u001b[0m     new_dictionary \u001b[38;5;241m=\u001b[39m []\n\u001b[0;32m--> 306\u001b[0m     included_max \u001b[38;5;241m=\u001b[39m \u001b[38;5;28mmax\u001b[39m(included_letters\u001b[38;5;241m.\u001b[39mitems(), key \u001b[38;5;241m=\u001b[39m operator\u001b[38;5;241m.\u001b[39mitemgetter(\u001b[38;5;241m1\u001b[39m))[\u001b[38;5;241m0\u001b[39m]\n\u001b[1;32m    307\u001b[0m     \u001b[38;5;28;01mfor\u001b[39;00m dict_word \u001b[38;5;129;01min\u001b[39;00m dict_of_words:\n\u001b[1;32m    308\u001b[0m         \u001b[38;5;28;01mif\u001b[39;00m included_max \u001b[38;5;129;01mnot\u001b[39;00m \u001b[38;5;129;01min\u001b[39;00m dict_word:\n",
      "\u001b[0;31mNameError\u001b[0m: name 'operator' is not defined"
     ]
    }
   ],
   "source": [
    "play_game_function.play_game('apple', ['apple', 'oranges'], verbose = True )"
   ]
  },
  {
   "cell_type": "code",
   "execution_count": null,
   "id": "1cc7b926",
   "metadata": {},
   "outputs": [],
   "source": []
  }
 ],
 "metadata": {
  "kernelspec": {
   "display_name": "Python 3 (ipykernel)",
   "language": "python",
   "name": "python3"
  },
  "language_info": {
   "codemirror_mode": {
    "name": "ipython",
    "version": 3
   },
   "file_extension": ".py",
   "mimetype": "text/x-python",
   "name": "python",
   "nbconvert_exporter": "python",
   "pygments_lexer": "ipython3",
   "version": "3.10.11"
  }
 },
 "nbformat": 4,
 "nbformat_minor": 5
}
