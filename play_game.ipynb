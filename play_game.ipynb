{
 "cells": [
  {
   "cell_type": "code",
   "execution_count": 1,
   "id": "1200ee10",
   "metadata": {},
   "outputs": [],
   "source": [
    "import guess_function\n",
    "import play_game_function"
   ]
  },
  {
   "cell_type": "code",
   "execution_count": null,
   "id": "f096eeee",
   "metadata": {},
   "outputs": [],
   "source": [
    "guess_function.guess(['apple', 'oranges'],['apple', 'oranges'], ['a','e'], 'a _ _ _ e')"
   ]
  },
  {
   "cell_type": "code",
   "execution_count": null,
   "id": "8572a2b1",
   "metadata": {},
   "outputs": [],
   "source": [
    "word = 'apple'\n",
    "starting_word = \"\"\n",
    "for i in range(len(word) - 1):\n",
    "    starting_word += \"_ \"\n",
    "starting_word += \"_\"\n",
    "starting_word"
   ]
  },
  {
   "cell_type": "code",
   "execution_count": 3,
   "id": "66aab15f",
   "metadata": {},
   "outputs": [
    {
     "name": "stdout",
     "output_type": "stream",
     "text": [
      "Guessing  a current state is  a _ _ _ _\n",
      "Guessing  e current state is  a _ _ _ e\n",
      "Guessing  p current state is  a p p _ e\n",
      "Guessing  l current state is  a p p l e\n",
      "The algorithm won\n"
     ]
    },
    {
     "data": {
      "text/plain": [
       "True"
      ]
     },
     "execution_count": 3,
     "metadata": {},
     "output_type": "execute_result"
    }
   ],
   "source": [
    "play_game_function.play_game('apple', ['apple', 'oranges'], verbose = True )"
   ]
  },
  {
   "cell_type": "code",
   "execution_count": 2,
   "id": "1cc7b926",
   "metadata": {},
   "outputs": [
    {
     "name": "stdout",
     "output_type": "stream",
     "text": [
      "Guessing  o current state is  _ _ _ _ _ _\n",
      "Guessing  r current state is  _ _ _ _ _ _\n",
      "Guessing  a current state is  _ a _ a _ a\n",
      "Guessing  p current state is  _ a _ a _ a\n",
      "Guessing  e current state is  _ a _ a _ a\n",
      "Guessing  l current state is  _ a _ a _ a\n",
      "Guessing  n current state is  _ a n a n a\n",
      "Guessing  g current state is  _ a n a n a\n",
      "The algorithm lost\n"
     ]
    },
    {
     "data": {
      "text/plain": [
       "False"
      ]
     },
     "execution_count": 2,
     "metadata": {},
     "output_type": "execute_result"
    }
   ],
   "source": [
    "play_game_function.play_game('banana', ['apple', 'oranges'], verbose = True )"
   ]
  },
  {
   "cell_type": "code",
   "execution_count": null,
   "id": "49b31ef1",
   "metadata": {},
   "outputs": [],
   "source": []
  }
 ],
 "metadata": {
  "kernelspec": {
   "display_name": "Python 3 (ipykernel)",
   "language": "python",
   "name": "python3"
  },
  "language_info": {
   "codemirror_mode": {
    "name": "ipython",
    "version": 3
   },
   "file_extension": ".py",
   "mimetype": "text/x-python",
   "name": "python",
   "nbconvert_exporter": "python",
   "pygments_lexer": "ipython3",
   "version": "3.10.11"
  }
 },
 "nbformat": 4,
 "nbformat_minor": 5
}
