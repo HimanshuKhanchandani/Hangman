{
 "cells": [
  {
   "cell_type": "code",
   "execution_count": 1,
   "id": "1200ee10",
   "metadata": {},
   "outputs": [],
   "source": [
    "import guess_function\n",
    "import play_game_function"
   ]
  },
  {
   "cell_type": "code",
   "execution_count": 2,
   "id": "f0d44127",
   "metadata": {},
   "outputs": [],
   "source": [
    "with open('train_words.txt','r') as file:\n",
    "    train_dictionary = file.readlines()\n",
    "for i in range(len(train_dictionary)):\n",
    "    train_dictionary[i] = train_dictionary[i].replace('\\n','')"
   ]
  },
  {
   "cell_type": "markdown",
   "id": "ff341f0e",
   "metadata": {},
   "source": [
    "To play the game, just call the play game function with whatever word you have in mind. Here I show it with 'bananacake'."
   ]
  },
  {
   "cell_type": "code",
   "execution_count": 4,
   "id": "f096eeee",
   "metadata": {},
   "outputs": [
    {
     "name": "stdout",
     "output_type": "stream",
     "text": [
      "Guessing  e current state is  _ _ _ _ _ _ _ _ _ e\n",
      "Guessing  i current state is  _ _ _ _ _ _ _ _ _ e\n",
      "Guessing  a current state is  _ a _ a _ a _ a _ e\n",
      "Guessing  r current state is  _ a _ a _ a _ a _ e\n",
      "Guessing  t current state is  _ a _ a _ a _ a _ e\n",
      "Guessing  c current state is  _ a _ a _ a c a _ e\n",
      "Guessing  s current state is  _ a _ a _ a c a _ e\n",
      "Guessing  p current state is  _ a _ a _ a c a _ e\n",
      "Guessing  n current state is  _ a n a n a c a _ e\n",
      "Guessing  m current state is  _ a n a n a c a _ e\n",
      "The algorithm lost\n"
     ]
    },
    {
     "data": {
      "text/plain": [
       "False"
      ]
     },
     "execution_count": 4,
     "metadata": {},
     "output_type": "execute_result"
    }
   ],
   "source": [
    "play_game_function.play_game('bananacake', train_dictionary, verbose = True )"
   ]
  },
  {
   "cell_type": "code",
   "execution_count": null,
   "id": "8572a2b1",
   "metadata": {},
   "outputs": [],
   "source": [
    "word = 'apple'\n",
    "starting_word = \"\"\n",
    "for i in range(len(word) - 1):\n",
    "    starting_word += \"_ \"\n",
    "starting_word += \"_\"\n",
    "starting_word"
   ]
  },
  {
   "cell_type": "code",
   "execution_count": 3,
   "id": "66aab15f",
   "metadata": {},
   "outputs": [
    {
     "name": "stdout",
     "output_type": "stream",
     "text": [
      "Guessing  a current state is  a _ _ _ _\n",
      "Guessing  e current state is  a _ _ _ e\n",
      "Guessing  p current state is  a p p _ e\n",
      "Guessing  l current state is  a p p l e\n",
      "The algorithm won\n"
     ]
    },
    {
     "data": {
      "text/plain": [
       "True"
      ]
     },
     "execution_count": 3,
     "metadata": {},
     "output_type": "execute_result"
    }
   ],
   "source": [
    "play_game_function.play_game('apple', ['apple', 'oranges'], verbose = True )"
   ]
  },
  {
   "cell_type": "code",
   "execution_count": null,
   "id": "49b31ef1",
   "metadata": {},
   "outputs": [],
   "source": []
  }
 ],
 "metadata": {
  "kernelspec": {
   "display_name": "Python 3 (ipykernel)",
   "language": "python",
   "name": "python3"
  },
  "language_info": {
   "codemirror_mode": {
    "name": "ipython",
    "version": 3
   },
   "file_extension": ".py",
   "mimetype": "text/x-python",
   "name": "python",
   "nbconvert_exporter": "python",
   "pygments_lexer": "ipython3",
   "version": "3.10.11"
  }
 },
 "nbformat": 4,
 "nbformat_minor": 5
}
