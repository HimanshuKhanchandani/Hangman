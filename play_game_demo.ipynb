{
 "cells": [
  {
   "cell_type": "code",
   "execution_count": 1,
   "id": "1200ee10",
   "metadata": {},
   "outputs": [],
   "source": [
    "import guess_function\n",
    "import play_game_function"
   ]
  },
  {
   "cell_type": "code",
   "execution_count": 2,
   "id": "f0d44127",
   "metadata": {},
   "outputs": [],
   "source": [
    "with open('train_words.txt','r') as file:\n",
    "    train_dictionary = file.readlines()\n",
    "for i in range(len(train_dictionary)):\n",
    "    train_dictionary[i] = train_dictionary[i].replace('\\n','')"
   ]
  },
  {
   "cell_type": "markdown",
   "id": "ff341f0e",
   "metadata": {},
   "source": [
    "To play the game, just call the play game function with whatever word you have in mind. Here I show it with 'applecider' and 'delinquency'. If you wanna test it out yourself, just clone the repisotory and rerun the following lines by changine the words. "
   ]
  },
  {
   "cell_type": "code",
   "execution_count": 4,
   "id": "f096eeee",
   "metadata": {},
   "outputs": [
    {
     "name": "stdout",
     "output_type": "stream",
     "text": [
      "Guessing  e current state is  _ _ _ _ e _ _ _ e _\n",
      "Guessing  r current state is  _ _ _ _ e _ _ _ e r\n",
      "Guessing  a current state is  a _ _ _ e _ _ _ e r\n",
      "Guessing  c current state is  a _ _ _ e c _ _ e r\n",
      "Guessing  l current state is  a _ _ l e c _ _ e r\n",
      "Guessing  o current state is  a _ _ l e c _ _ e r\n",
      "Guessing  m current state is  a _ _ l e c _ _ e r\n",
      "Guessing  d current state is  a _ _ l e c _ d e r\n",
      "Guessing  t current state is  a _ _ l e c _ d e r\n",
      "Guessing  i current state is  a _ _ l e c i d e r\n",
      "Guessing  s current state is  a _ _ l e c i d e r\n",
      "Guessing  p current state is  a p p l e c i d e r\n",
      "The algorithm won\n"
     ]
    },
    {
     "data": {
      "text/plain": [
       "True"
      ]
     },
     "execution_count": 4,
     "metadata": {},
     "output_type": "execute_result"
    }
   ],
   "source": [
    "play_game_function.play_game('applecider', train_dictionary, verbose = True )"
   ]
  },
  {
   "cell_type": "code",
   "execution_count": 5,
   "id": "8572a2b1",
   "metadata": {},
   "outputs": [
    {
     "name": "stdout",
     "output_type": "stream",
     "text": [
      "Guessing  i current state is  _ _ _ i _ _ _ _ _ _ _ _ _\n",
      "Guessing  e current state is  _ e _ i _ e _ _ _ e _ _ _\n",
      "Guessing  n current state is  _ e _ i n e _ _ _ e n _ _\n",
      "Guessing  s current state is  _ e _ i n e _ _ _ e n _ _\n",
      "Guessing  r current state is  _ e _ i n e _ _ _ e n _ _\n",
      "Guessing  t current state is  _ e _ i n e _ _ _ e n _ _\n",
      "Guessing  u current state is  _ e _ i n e u _ u e n _ _\n",
      "Guessing  d current state is  d e _ i n e u _ u e n _ _\n",
      "Guessing  l current state is  d e l i n e u _ u e n _ _\n",
      "Guessing  q current state is  d e l i n e u q u e n _ _\n",
      "Guessing  y current state is  d e l i n e u q u e n _ y\n",
      "Guessing  p current state is  d e l i n e u q u e n _ y\n",
      "Guessing  c current state is  d e l i n e u q u e n c y\n",
      "The algorithm won\n"
     ]
    },
    {
     "data": {
      "text/plain": [
       "True"
      ]
     },
     "execution_count": 5,
     "metadata": {},
     "output_type": "execute_result"
    }
   ],
   "source": [
    "play_game_function.play_game('delineuquency', train_dictionary, verbose = True)"
   ]
  },
  {
   "cell_type": "code",
   "execution_count": null,
   "id": "fd2a4c91",
   "metadata": {},
   "outputs": [],
   "source": []
  }
 ],
 "metadata": {
  "kernelspec": {
   "display_name": "Python 3 (ipykernel)",
   "language": "python",
   "name": "python3"
  },
  "language_info": {
   "codemirror_mode": {
    "name": "ipython",
    "version": 3
   },
   "file_extension": ".py",
   "mimetype": "text/x-python",
   "name": "python",
   "nbconvert_exporter": "python",
   "pygments_lexer": "ipython3",
   "version": "3.10.11"
  }
 },
 "nbformat": 4,
 "nbformat_minor": 5
}
