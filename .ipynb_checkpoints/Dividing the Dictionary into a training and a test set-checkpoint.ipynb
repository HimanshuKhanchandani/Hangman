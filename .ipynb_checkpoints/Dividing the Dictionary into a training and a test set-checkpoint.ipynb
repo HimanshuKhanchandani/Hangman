{
 "cells": [
  {
   "cell_type": "code",
   "execution_count": 19,
   "id": "92795c84",
   "metadata": {},
   "outputs": [],
   "source": [
    "import numpy as np\n",
    "\n",
    "# First open the list of all words and store them in a list\n",
    "\n",
    "with open('words_alpha.txt','r') as file:\n",
    "    word_list_full = file.readlines()\n",
    "\n",
    "# Now create two files that will contain train and test files\n",
    "file_train = open('train_words.txt', 'w+')\n",
    "file_test = open('test_words.txt', 'w+')\n",
    "size_full = len(word_list_full)\n",
    "\n",
    "# Creating a list of random numbers to decide which words to put in train vs test dictionary\n",
    "rng = np.random.default_rng()\n",
    "random_int = rng.choice(np.arange(size_full), size = size_full//2, replace = False)\n",
    "random_int.sort()\n",
    "\n",
    "# Now we go through the whole list and sort words randomly\n",
    "\n",
    "random_index = 0\n",
    "for i in range(size_full):\n",
    "    if (random_index < len(random_int)) and (i == random_int[random_index]):\n",
    "        random_index += 1\n",
    "        file_train.write(word_list_full[i])\n",
    "    else:\n",
    "        file_test.write(word_list_full[i])\n",
    "\n",
    "# Finally don't forget to close the files\n",
    "file_train.close()\n",
    "file_test.close()\n"
   ]
  },
  {
   "cell_type": "code",
   "execution_count": null,
   "id": "021139bd",
   "metadata": {},
   "outputs": [],
   "source": []
  }
 ],
 "metadata": {
  "kernelspec": {
   "display_name": "Python 3 (ipykernel)",
   "language": "python",
   "name": "python3"
  },
  "language_info": {
   "codemirror_mode": {
    "name": "ipython",
    "version": 3
   },
   "file_extension": ".py",
   "mimetype": "text/x-python",
   "name": "python",
   "nbconvert_exporter": "python",
   "pygments_lexer": "ipython3",
   "version": "3.10.11"
  }
 },
 "nbformat": 4,
 "nbformat_minor": 5
}
