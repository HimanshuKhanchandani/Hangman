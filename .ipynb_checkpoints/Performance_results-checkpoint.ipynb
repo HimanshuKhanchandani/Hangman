{
 "cells": [
  {
   "cell_type": "code",
   "execution_count": 8,
   "id": "058a1672",
   "metadata": {},
   "outputs": [],
   "source": [
    "import guess_function\n",
    "import play_game_function\n",
    "import numpy as np"
   ]
  },
  {
   "cell_type": "code",
   "execution_count": 2,
   "id": "a0d2c1db",
   "metadata": {},
   "outputs": [],
   "source": [
    "with open('train_words.txt','r') as file:\n",
    "    train_dictionary = file.readlines()\n",
    "for i in range(len(train_dictionary)):\n",
    "    train_dictionary[i] = train_dictionary[i].replace('\\n','')\n",
    "\n",
    "with open('test_words.txt','r') as file:\n",
    "    test_dictionary = file.readlines()\n",
    "for i in range(len(test_dictionary)):\n",
    "    test_dictionary[i] = test_dictionary[i].replace('\\n','')"
   ]
  },
  {
   "cell_type": "code",
   "execution_count": 11,
   "id": "f8542db7",
   "metadata": {},
   "outputs": [
    {
     "name": "stdout",
     "output_type": "stream",
     "text": [
      "The win percentage on the training set is  80.3\n"
     ]
    }
   ],
   "source": [
    "number_of_wins = 0\n",
    "number_of_tries = 1000\n",
    "rng = np.random.default_rng()\n",
    "random_int = rng.choice(np.arange(len(train_dictionary)), size = number_of_tries, replace = False)\n",
    "random_int.sort()\n",
    "for i in random_int:\n",
    "    if play_game_function.play_game(train_dictionary[i], train_dictionary):\n",
    "        number_of_wins += 1\n",
    "print('The win percentage on the training set is ', number_of_wins*100/(number_of_tries))"
   ]
  },
  {
   "cell_type": "code",
   "execution_count": 12,
   "id": "e9b7346f",
   "metadata": {},
   "outputs": [
    {
     "name": "stdout",
     "output_type": "stream",
     "text": [
      "The win percentage on the test set is  43.9\n"
     ]
    }
   ],
   "source": [
    "number_of_wins = 0\n",
    "number_of_tries = 1000\n",
    "rng = np.random.default_rng()\n",
    "random_int = rng.choice(np.arange(len(test_dictionary)), size = number_of_tries, replace = False)\n",
    "random_int.sort()\n",
    "for i in random_int:\n",
    "    if play_game_function.play_game(test_dictionary[i], train_dictionary):\n",
    "        number_of_wins += 1\n",
    "print('The win percentage on the test set is ', number_of_wins*100/(number_of_tries))"
   ]
  },
  {
   "cell_type": "code",
   "execution_count": null,
   "id": "fec75852",
   "metadata": {},
   "outputs": [],
   "source": []
  }
 ],
 "metadata": {
  "kernelspec": {
   "display_name": "Python 3 (ipykernel)",
   "language": "python",
   "name": "python3"
  },
  "language_info": {
   "codemirror_mode": {
    "name": "ipython",
    "version": 3
   },
   "file_extension": ".py",
   "mimetype": "text/x-python",
   "name": "python",
   "nbconvert_exporter": "python",
   "pygments_lexer": "ipython3",
   "version": "3.10.11"
  }
 },
 "nbformat": 4,
 "nbformat_minor": 5
}
